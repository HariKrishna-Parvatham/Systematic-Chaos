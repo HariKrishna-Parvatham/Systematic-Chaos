{
 "cells": [
  {
   "cell_type": "code",
   "execution_count": 2,
   "id": "3c690573-3bde-4835-8364-8c46e99ab2e4",
   "metadata": {
    "tags": []
   },
   "outputs": [],
   "source": [
    "import os\n",
    "import numpy as np\n",
    "import struct\n",
    "import torch\n",
    "from torch.utils.data import Dataset, DataLoader\n",
    "import matplotlib.pyplot as plt\n",
    "\n",
    "class MNISTDataset(Dataset):\n",
    "    def __init__(self, image_file, label_file, transform=None):\n",
    "        self.images = self._load_images(image_file)\n",
    "        self.labels = self._load_labels(label_file)\n",
    "        self.transform = transform\n",
    "\n",
    "    def _load_images(self, file_path):\n",
    "        with open(file_path, 'rb') as f:\n",
    "            magic, num, rows, cols = struct.unpack(\">IIII\", f.read(16))\n",
    "            images = np.frombuffer(f.read(), dtype=np.uint8)\n",
    "            images = images.reshape(num, 1, rows, cols).astype(np.float32) / 255.0  # Normalize to [0, 1]\n",
    "        return images\n",
    "\n",
    "    def _load_labels(self, file_path):\n",
    "        with open(file_path, 'rb') as f:\n",
    "            magic, num = struct.unpack(\">II\", f.read(8))\n",
    "            labels = np.frombuffer(f.read(), dtype=np.uint8)\n",
    "        return labels\n",
    "\n",
    "    def __len__(self):\n",
    "        return len(self.labels)\n",
    "\n",
    "    def __getitem__(self, idx):\n",
    "        image = self.images[idx]\n",
    "        label = self.labels[idx]\n",
    "        if self.transform:\n",
    "            image = self.transform(image)\n",
    "        return image, label\n",
    "\n",
    "train_images_path = \"mnist/train-images.idx3-ubyte\"\n",
    "train_labels_path = \"mnist/train-labels.idx1-ubyte\"\n",
    "test_images_path = \"mnist/t10k-images.idx3-ubyte\"\n",
    "test_labels_path = \"mnist/t10k-labels.idx1-ubyte\"\n",
    "\n",
    "# Create datasets\n",
    "train_dataset = MNISTDataset(train_images_path, train_labels_path)\n",
    "test_dataset = MNISTDataset(test_images_path, test_labels_path)\n",
    "\n",
    "# Create data loaders\n",
    "batch_size = 64\n",
    "train_loader = DataLoader(train_dataset, batch_size=batch_size, shuffle=True, num_workers=8)\n",
    "test_loader = DataLoader(test_dataset, batch_size=batch_size, shuffle=False, num_workers=8)"
   ]
  },
  {
   "cell_type": "code",
   "execution_count": 3,
   "id": "18355945-aea1-4a84-805c-2145c626548d",
   "metadata": {
    "tags": []
   },
   "outputs": [
    {
     "data": {
      "image/png": "[encoded data removed]",
      "text/plain": [
       "<Figure size 200x200 with 1 Axes>"
      ]
     },
     "metadata": {},
     "output_type": "display_data"
    },
    {
     "name": "stdout",
     "output_type": "stream",
     "text": [
      "(1, 28, 28)\n"
     ]
    }
   ],
   "source": [
    "plt.figure(figsize = (2,2))\n",
    "plt.axis('off')\n",
    "plt.imshow(train_dataset[2][0][0],cmap='grey')\n",
    "plt.show()\n",
    "print(train_dataset[0][0].shape)"
   ]
  },
  {
   "cell_type": "code",
   "execution_count": 4,
   "id": "45315946-112c-4b62-8c48-ea9f0e601e58",
   "metadata": {
    "tags": []
   },
   "outputs": [],
   "source": [
    "import torch\n",
    "import torch.nn as nn\n",
    "\n",
    "class VAE(nn.Module):\n",
    "    def __init__(self, latent_dim=16):\n",
    "        super(VAE, self).__init__()\n",
    "        self.latent_dim = latent_dim\n",
    "\n",
    "        # Encoder\n",
    "        self.encoder = nn.Sequential(\n",
    "            nn.Conv2d(1, 32, kernel_size=4, stride=2, padding=1),  # 28x28 -> 14x14\n",
    "            nn.BatchNorm2d(32),\n",
    "            nn.ReLU(),\n",
    "            nn.Conv2d(32, 64, kernel_size=4, stride=2, padding=1),  # 14x14 -> 7x7\n",
    "            nn.BatchNorm2d(64),\n",
    "            nn.ReLU(),\n",
    "            nn.Flatten()\n",
    "        )\n",
    "        \n",
    "        # Latent space (mean and variance for reparameterization)\n",
    "        self.fc_mu = nn.Linear(64 * 7 * 7, latent_dim)\n",
    "        self.fc_logvar = nn.Linear(64 * 7 * 7, latent_dim)\n",
    "        \n",
    "        # Decoder\n",
    "        self.decoder_fc = nn.Sequential(\n",
    "            nn.Linear(latent_dim, 64 * 7 * 7),\n",
    "            nn.ReLU()\n",
    "        )\n",
    "        self.decoder = nn.Sequential(\n",
    "            nn.Unflatten(1, (64, 7, 7)),  # Reshape to 64x7x7\n",
    "            nn.ConvTranspose2d(64, 32, kernel_size=4, stride=2, padding=1),  # 7x7 -> 14x14\n",
    "            nn.BatchNorm2d(32),\n",
    "            nn.ReLU(),\n",
    "            nn.ConvTranspose2d(32, 1, kernel_size=4, stride=2, padding=1),   # 14x14 -> 28x28\n",
    "            nn.Sigmoid()  # To map the output to [0, 1]\n",
    "        )\n",
    "        \n",
    "    def encode(self, x):\n",
    "        x = self.encoder(x)\n",
    "        mu = self.fc_mu(x)\n",
    "        logvar = self.fc_logvar(x)\n",
    "        return mu, logvar\n",
    "    \n",
    "    def reparameterize(self, mu, logvar):\n",
    "        std = torch.exp(0.5 * logvar)\n",
    "        eps = torch.randn_like(std)\n",
    "        z = mu + eps * std\n",
    "        return z\n",
    "    \n",
    "    def decode(self, z):\n",
    "        z = self.decoder_fc(z)\n",
    "        return self.decoder(z)\n",
    "    \n",
    "    def forward(self, x):\n",
    "        mu, logvar = self.encode(x)\n",
    "        z = self.reparameterize(mu, logvar)\n",
    "        x_reconstructed = self.decode(z)\n",
    "        return x_reconstructed, mu, logvar\n",
    "\n",
    "latent_dim = 16  # Suitable for MNIST\n",
    "device = torch.device(\"cuda\" if torch.cuda.is_available() else \"cpu\")\n",
    "model = VAE(latent_dim=latent_dim).to(device)\n"
   ]
  },
  {
   "cell_type": "code",
   "execution_count": 5,
   "id": "84803907-c3da-4a6e-bb28-7155d88d98a7",
   "metadata": {
    "tags": []
   },
   "outputs": [],
   "source": [
    "import torch.nn.functional as F\n",
    "\n",
    "def loss_function(reconstructed_x, x, mu, logvar, lambda_kl=1.0):\n",
    "    # MSE loss for reconstruction (since MNIST is [0, 1], we use BCE or MSE)\n",
    "    BCE = F.mse_loss(reconstructed_x, x, reduction='sum')\n",
    "    \n",
    "    # KL Divergence loss\n",
    "    KL_divergence = -0.5 * torch.sum(1 + logvar - mu.pow(2) - logvar.exp())\n",
    "    \n",
    "    return BCE + lambda_kl * KL_divergence\n",
    "\n",
    "import torch.optim as optim\n",
    "from tqdm import tqdm\n",
    "\n",
    "learning_rate = 1e-4\n",
    "optimizer = optim.Adam(model.parameters(), lr=learning_rate)\n",
    "\n",
    "def train(dataloader, model, optimizer, epochs=10, lambda_kl=1.0):\n",
    "    model.train()\n",
    "    for epoch in range(epochs):\n",
    "        running_loss = 0.0\n",
    "        with tqdm(dataloader, desc=f'Epoch {epoch+1}/{epochs}', unit='batch') as pbar:\n",
    "            for batch_idx, (data, _) in enumerate(pbar):\n",
    "                data = data.to(device)\n",
    "                \n",
    "                optimizer.zero_grad()\n",
    "                \n",
    "                # Forward pass\n",
    "                reconstructed_x, mu, logvar = model(data)\n",
    "                \n",
    "                # Compute the loss\n",
    "                loss = loss_function(reconstructed_x, data, mu, logvar, lambda_kl)\n",
    "                \n",
    "                # Backpropagation\n",
    "                loss.backward()\n",
    "                optimizer.step()\n",
    "                \n",
    "                running_loss += loss.item()\n",
    "                \n",
    "                # Update progress bar\n",
    "                pbar.set_postfix(loss=running_loss / (batch_idx + 1))\n",
    "\n",
    "        avg_loss = running_loss / len(dataloader.dataset)\n",
    "        print(f'Epoch [{epoch+1}/{epochs}], Loss: {avg_loss:.4f}')\n"
   ]
  },
  {
   "cell_type": "code",
   "execution_count": 6,
   "id": "e8ff612a-9fd1-445c-8cdb-b4c8149bc6a5",
   "metadata": {
    "tags": []
   },
   "outputs": [
    {
     "name": "stderr",
     "output_type": "stream",
     "text": [
      "Epoch 1/50: 100%|██████████| 938/938 [00:43<00:00, 21.57batch/s, loss=5.22e+3] \n"
     ]
    },
    {
     "name": "stdout",
     "output_type": "stream",
     "text": [
      "Epoch [1/50], Loss: 81.6303\n"
     ]
    },
    {
     "name": "stderr",
     "output_type": "stream",
     "text": [
      "Epoch 2/50: 100%|██████████| 938/938 [00:04<00:00, 208.02batch/s, loss=2.53e+3]\n"
     ]
    },
    {
     "name": "stdout",
     "output_type": "stream",
     "text": [
      "Epoch [2/50], Loss: 39.5267\n"
     ]
    },
    {
     "name": "stderr",
     "output_type": "stream",
     "text": [
      "Epoch 3/50: 100%|██████████| 938/938 [00:04<00:00, 213.68batch/s, loss=2.27e+3]\n"
     ]
    },
    {
     "name": "stdout",
     "output_type": "stream",
     "text": [
      "Epoch [3/50], Loss: 35.5636\n"
     ]
    },
    {
     "name": "stderr",
     "output_type": "stream",
     "text": [
      "Epoch 4/50: 100%|██████████| 938/938 [00:04<00:00, 204.74batch/s, loss=2.18e+3]\n"
     ]
    },
    {
     "name": "stdout",
     "output_type": "stream",
     "text": [
      "Epoch [4/50], Loss: 34.0150\n"
     ]
    },
    {
     "name": "stderr",
     "output_type": "stream",
     "text": [
      "Epoch 5/50: 100%|██████████| 938/938 [00:04<00:00, 216.75batch/s, loss=2.12e+3]\n"
     ]
    },
    {
     "name": "stdout",
     "output_type": "stream",
     "text": [
      "Epoch [5/50], Loss: 33.1254\n"
     ]
    },
    {
     "name": "stderr",
     "output_type": "stream",
     "text": [
      "Epoch 6/50: 100%|██████████| 938/938 [00:04<00:00, 206.14batch/s, loss=2.08e+3]\n"
     ]
    },
    {
     "name": "stdout",
     "output_type": "stream",
     "text": [
      "Epoch [6/50], Loss: 32.5423\n"
     ]
    },
    {
     "name": "stderr",
     "output_type": "stream",
     "text": [
      "Epoch 7/50: 100%|██████████| 938/938 [00:04<00:00, 222.30batch/s, loss=2.06e+3]\n"
     ]
    },
    {
     "name": "stdout",
     "output_type": "stream",
     "text": [
      "Epoch [7/50], Loss: 32.1418\n"
     ]
    },
    {
     "name": "stderr",
     "output_type": "stream",
     "text": [
      "Epoch 8/50: 100%|██████████| 938/938 [00:04<00:00, 206.49batch/s, loss=2.04e+3]\n"
     ]
    },
    {
     "name": "stdout",
     "output_type": "stream",
     "text": [
      "Epoch [8/50], Loss: 31.8216\n"
     ]
    },
    {
     "name": "stderr",
     "output_type": "stream",
     "text": [
      "Epoch 9/50: 100%|██████████| 938/938 [00:04<00:00, 227.03batch/s, loss=2.02e+3]\n"
     ]
    },
    {
     "name": "stdout",
     "output_type": "stream",
     "text": [
      "Epoch [9/50], Loss: 31.5171\n"
     ]
    },
    {
     "name": "stderr",
     "output_type": "stream",
     "text": [
      "Epoch 10/50: 100%|██████████| 938/938 [00:04<00:00, 217.53batch/s, loss=2e+3]   \n"
     ]
    },
    {
     "name": "stdout",
     "output_type": "stream",
     "text": [
      "Epoch [10/50], Loss: 31.3401\n"
     ]
    },
    {
     "name": "stderr",
     "output_type": "stream",
     "text": [
      "Epoch 11/50: 100%|██████████| 938/938 [00:04<00:00, 215.59batch/s, loss=1.99e+3]\n"
     ]
    },
    {
     "name": "stdout",
     "output_type": "stream",
     "text": [
      "Epoch [11/50], Loss: 31.1195\n"
     ]
    },
    {
     "name": "stderr",
     "output_type": "stream",
     "text": [
      "Epoch 12/50: 100%|██████████| 938/938 [00:04<00:00, 214.44batch/s, loss=1.98e+3]\n"
     ]
    },
    {
     "name": "stdout",
     "output_type": "stream",
     "text": [
      "Epoch [12/50], Loss: 30.9391\n"
     ]
    },
    {
     "name": "stderr",
     "output_type": "stream",
     "text": [
      "Epoch 13/50: 100%|██████████| 938/938 [00:04<00:00, 208.83batch/s, loss=1.97e+3]\n"
     ]
    },
    {
     "name": "stdout",
     "output_type": "stream",
     "text": [
      "Epoch [13/50], Loss: 30.7967\n"
     ]
    },
    {
     "name": "stderr",
     "output_type": "stream",
     "text": [
      "Epoch 14/50: 100%|██████████| 938/938 [00:04<00:00, 223.15batch/s, loss=1.96e+3]\n"
     ]
    },
    {
     "name": "stdout",
     "output_type": "stream",
     "text": [
      "Epoch [14/50], Loss: 30.6673\n"
     ]
    },
    {
     "name": "stderr",
     "output_type": "stream",
     "text": [
      "Epoch 15/50: 100%|██████████| 938/938 [00:04<00:00, 211.01batch/s, loss=1.95e+3]\n"
     ]
    },
    {
     "name": "stdout",
     "output_type": "stream",
     "text": [
      "Epoch [15/50], Loss: 30.5543\n"
     ]
    },
    {
     "name": "stderr",
     "output_type": "stream",
     "text": [
      "Epoch 16/50: 100%|██████████| 938/938 [00:04<00:00, 217.37batch/s, loss=1.95e+3]\n"
     ]
    },
    {
     "name": "stdout",
     "output_type": "stream",
     "text": [
      "Epoch [16/50], Loss: 30.4341\n"
     ]
    },
    {
     "name": "stderr",
     "output_type": "stream",
     "text": [
      "Epoch 17/50: 100%|██████████| 938/938 [00:04<00:00, 217.25batch/s, loss=1.94e+3]\n"
     ]
    },
    {
     "name": "stdout",
     "output_type": "stream",
     "text": [
      "Epoch [17/50], Loss: 30.3540\n"
     ]
    },
    {
     "name": "stderr",
     "output_type": "stream",
     "text": [
      "Epoch 18/50: 100%|██████████| 938/938 [00:04<00:00, 203.88batch/s, loss=1.93e+3]\n"
     ]
    },
    {
     "name": "stdout",
     "output_type": "stream",
     "text": [
      "Epoch [18/50], Loss: 30.2409\n"
     ]
    },
    {
     "name": "stderr",
     "output_type": "stream",
     "text": [
      "Epoch 19/50: 100%|██████████| 938/938 [00:04<00:00, 218.16batch/s, loss=1.93e+3]\n"
     ]
    },
    {
     "name": "stdout",
     "output_type": "stream",
     "text": [
      "Epoch [19/50], Loss: 30.1619\n"
     ]
    },
    {
     "name": "stderr",
     "output_type": "stream",
     "text": [
      "Epoch 20/50: 100%|██████████| 938/938 [00:04<00:00, 218.14batch/s, loss=1.92e+3]\n"
     ]
    },
    {
     "name": "stdout",
     "output_type": "stream",
     "text": [
      "Epoch [20/50], Loss: 30.0888\n"
     ]
    },
    {
     "name": "stderr",
     "output_type": "stream",
     "text": [
      "Epoch 21/50: 100%|██████████| 938/938 [00:04<00:00, 207.77batch/s, loss=1.92e+3]\n"
     ]
    },
    {
     "name": "stdout",
     "output_type": "stream",
     "text": [
      "Epoch [21/50], Loss: 30.0641\n"
     ]
    },
    {
     "name": "stderr",
     "output_type": "stream",
     "text": [
      "Epoch 22/50: 100%|██████████| 938/938 [00:04<00:00, 215.77batch/s, loss=1.91e+3]\n"
     ]
    },
    {
     "name": "stdout",
     "output_type": "stream",
     "text": [
      "Epoch [22/50], Loss: 29.9228\n"
     ]
    },
    {
     "name": "stderr",
     "output_type": "stream",
     "text": [
      "Epoch 23/50: 100%|██████████| 938/938 [00:04<00:00, 227.38batch/s, loss=1.91e+3]\n"
     ]
    },
    {
     "name": "stdout",
     "output_type": "stream",
     "text": [
      "Epoch [23/50], Loss: 29.9150\n"
     ]
    },
    {
     "name": "stderr",
     "output_type": "stream",
     "text": [
      "Epoch 24/50: 100%|██████████| 938/938 [00:04<00:00, 206.87batch/s, loss=1.91e+3]\n"
     ]
    },
    {
     "name": "stdout",
     "output_type": "stream",
     "text": [
      "Epoch [24/50], Loss: 29.8083\n"
     ]
    },
    {
     "name": "stderr",
     "output_type": "stream",
     "text": [
      "Epoch 25/50: 100%|██████████| 938/938 [00:04<00:00, 214.54batch/s, loss=1.9e+3] \n"
     ]
    },
    {
     "name": "stdout",
     "output_type": "stream",
     "text": [
      "Epoch [25/50], Loss: 29.7744\n"
     ]
    },
    {
     "name": "stderr",
     "output_type": "stream",
     "text": [
      "Epoch 26/50: 100%|██████████| 938/938 [00:04<00:00, 205.59batch/s, loss=1.9e+3]\n"
     ]
    },
    {
     "name": "stdout",
     "output_type": "stream",
     "text": [
      "Epoch [26/50], Loss: 29.7037\n"
     ]
    },
    {
     "name": "stderr",
     "output_type": "stream",
     "text": [
      "Epoch 27/50: 100%|██████████| 938/938 [00:04<00:00, 218.96batch/s, loss=1.9e+3] \n"
     ]
    },
    {
     "name": "stdout",
     "output_type": "stream",
     "text": [
      "Epoch [27/50], Loss: 29.6475\n"
     ]
    },
    {
     "name": "stderr",
     "output_type": "stream",
     "text": [
      "Epoch 28/50: 100%|██████████| 938/938 [00:04<00:00, 206.60batch/s, loss=1.89e+3]\n"
     ]
    },
    {
     "name": "stdout",
     "output_type": "stream",
     "text": [
      "Epoch [28/50], Loss: 29.5952\n"
     ]
    },
    {
     "name": "stderr",
     "output_type": "stream",
     "text": [
      "Epoch 29/50: 100%|██████████| 938/938 [00:04<00:00, 219.39batch/s, loss=1.89e+3]\n"
     ]
    },
    {
     "name": "stdout",
     "output_type": "stream",
     "text": [
      "Epoch [29/50], Loss: 29.5308\n"
     ]
    },
    {
     "name": "stderr",
     "output_type": "stream",
     "text": [
      "Epoch 30/50: 100%|██████████| 938/938 [00:04<00:00, 216.91batch/s, loss=1.89e+3]\n"
     ]
    },
    {
     "name": "stdout",
     "output_type": "stream",
     "text": [
      "Epoch [30/50], Loss: 29.5183\n"
     ]
    },
    {
     "name": "stderr",
     "output_type": "stream",
     "text": [
      "Epoch 31/50: 100%|██████████| 938/938 [00:04<00:00, 204.71batch/s, loss=1.88e+3]\n"
     ]
    },
    {
     "name": "stdout",
     "output_type": "stream",
     "text": [
      "Epoch [31/50], Loss: 29.4538\n"
     ]
    },
    {
     "name": "stderr",
     "output_type": "stream",
     "text": [
      "Epoch 32/50: 100%|██████████| 938/938 [00:04<00:00, 203.83batch/s, loss=1.88e+3]\n"
     ]
    },
    {
     "name": "stdout",
     "output_type": "stream",
     "text": [
      "Epoch [32/50], Loss: 29.4077\n"
     ]
    },
    {
     "name": "stderr",
     "output_type": "stream",
     "text": [
      "Epoch 33/50: 100%|██████████| 938/938 [00:04<00:00, 221.48batch/s, loss=1.88e+3]\n"
     ]
    },
    {
     "name": "stdout",
     "output_type": "stream",
     "text": [
      "Epoch [33/50], Loss: 29.3548\n"
     ]
    },
    {
     "name": "stderr",
     "output_type": "stream",
     "text": [
      "Epoch 34/50: 100%|██████████| 938/938 [00:04<00:00, 217.20batch/s, loss=1.87e+3]\n"
     ]
    },
    {
     "name": "stdout",
     "output_type": "stream",
     "text": [
      "Epoch [34/50], Loss: 29.3046\n"
     ]
    },
    {
     "name": "stderr",
     "output_type": "stream",
     "text": [
      "Epoch 35/50: 100%|██████████| 938/938 [00:04<00:00, 213.25batch/s, loss=1.87e+3]\n"
     ]
    },
    {
     "name": "stdout",
     "output_type": "stream",
     "text": [
      "Epoch [35/50], Loss: 29.2884\n"
     ]
    },
    {
     "name": "stderr",
     "output_type": "stream",
     "text": [
      "Epoch 36/50: 100%|██████████| 938/938 [00:04<00:00, 217.91batch/s, loss=1.87e+3]\n"
     ]
    },
    {
     "name": "stdout",
     "output_type": "stream",
     "text": [
      "Epoch [36/50], Loss: 29.2433\n"
     ]
    },
    {
     "name": "stderr",
     "output_type": "stream",
     "text": [
      "Epoch 37/50: 100%|██████████| 938/938 [00:04<00:00, 218.62batch/s, loss=1.87e+3]\n"
     ]
    },
    {
     "name": "stdout",
     "output_type": "stream",
     "text": [
      "Epoch [37/50], Loss: 29.2060\n"
     ]
    },
    {
     "name": "stderr",
     "output_type": "stream",
     "text": [
      "Epoch 38/50: 100%|██████████| 938/938 [00:04<00:00, 205.37batch/s, loss=1.87e+3]\n"
     ]
    },
    {
     "name": "stdout",
     "output_type": "stream",
     "text": [
      "Epoch [38/50], Loss: 29.1592\n"
     ]
    },
    {
     "name": "stderr",
     "output_type": "stream",
     "text": [
      "Epoch 39/50: 100%|██████████| 938/938 [00:04<00:00, 207.14batch/s, loss=1.86e+3]\n"
     ]
    },
    {
     "name": "stdout",
     "output_type": "stream",
     "text": [
      "Epoch [39/50], Loss: 29.1364\n"
     ]
    },
    {
     "name": "stderr",
     "output_type": "stream",
     "text": [
      "Epoch 40/50: 100%|██████████| 938/938 [00:04<00:00, 201.22batch/s, loss=1.86e+3]\n"
     ]
    },
    {
     "name": "stdout",
     "output_type": "stream",
     "text": [
      "Epoch [40/50], Loss: 29.0996\n"
     ]
    },
    {
     "name": "stderr",
     "output_type": "stream",
     "text": [
      "Epoch 41/50: 100%|██████████| 938/938 [00:04<00:00, 211.36batch/s, loss=1.86e+3]\n"
     ]
    },
    {
     "name": "stdout",
     "output_type": "stream",
     "text": [
      "Epoch [41/50], Loss: 29.0599\n"
     ]
    },
    {
     "name": "stderr",
     "output_type": "stream",
     "text": [
      "Epoch 42/50: 100%|██████████| 938/938 [00:04<00:00, 217.77batch/s, loss=1.86e+3]\n"
     ]
    },
    {
     "name": "stdout",
     "output_type": "stream",
     "text": [
      "Epoch [42/50], Loss: 29.0076\n"
     ]
    },
    {
     "name": "stderr",
     "output_type": "stream",
     "text": [
      "Epoch 43/50: 100%|██████████| 938/938 [00:04<00:00, 201.42batch/s, loss=1.85e+3]\n"
     ]
    },
    {
     "name": "stdout",
     "output_type": "stream",
     "text": [
      "Epoch [43/50], Loss: 28.9935\n"
     ]
    },
    {
     "name": "stderr",
     "output_type": "stream",
     "text": [
      "Epoch 44/50: 100%|██████████| 938/938 [00:04<00:00, 222.36batch/s, loss=1.85e+3]\n"
     ]
    },
    {
     "name": "stdout",
     "output_type": "stream",
     "text": [
      "Epoch [44/50], Loss: 28.9617\n"
     ]
    },
    {
     "name": "stderr",
     "output_type": "stream",
     "text": [
      "Epoch 45/50: 100%|██████████| 938/938 [00:04<00:00, 229.00batch/s, loss=1.85e+3]\n"
     ]
    },
    {
     "name": "stdout",
     "output_type": "stream",
     "text": [
      "Epoch [45/50], Loss: 28.9349\n"
     ]
    },
    {
     "name": "stderr",
     "output_type": "stream",
     "text": [
      "Epoch 46/50: 100%|██████████| 938/938 [00:04<00:00, 217.08batch/s, loss=1.85e+3]\n"
     ]
    },
    {
     "name": "stdout",
     "output_type": "stream",
     "text": [
      "Epoch [46/50], Loss: 28.8879\n"
     ]
    },
    {
     "name": "stderr",
     "output_type": "stream",
     "text": [
      "Epoch 47/50: 100%|██████████| 938/938 [00:04<00:00, 203.63batch/s, loss=1.85e+3]\n"
     ]
    },
    {
     "name": "stdout",
     "output_type": "stream",
     "text": [
      "Epoch [47/50], Loss: 28.8628\n"
     ]
    },
    {
     "name": "stderr",
     "output_type": "stream",
     "text": [
      "Epoch 48/50: 100%|██████████| 938/938 [00:04<00:00, 214.68batch/s, loss=1.84e+3]\n"
     ]
    },
    {
     "name": "stdout",
     "output_type": "stream",
     "text": [
      "Epoch [48/50], Loss: 28.8138\n"
     ]
    },
    {
     "name": "stderr",
     "output_type": "stream",
     "text": [
      "Epoch 49/50: 100%|██████████| 938/938 [00:04<00:00, 211.06batch/s, loss=1.84e+3]\n"
     ]
    },
    {
     "name": "stdout",
     "output_type": "stream",
     "text": [
      "Epoch [49/50], Loss: 28.7920\n"
     ]
    },
    {
     "name": "stderr",
     "output_type": "stream",
     "text": [
      "Epoch 50/50: 100%|██████████| 938/938 [00:04<00:00, 210.68batch/s, loss=1.84e+3]"
     ]
    },
    {
     "name": "stdout",
     "output_type": "stream",
     "text": [
      "Epoch [50/50], Loss: 28.7588\n"
     ]
    },
    {
     "name": "stderr",
     "output_type": "stream",
     "text": [
      "\n"
     ]
    }
   ],
   "source": [
    "### Train Model\n",
    "lambda_kl = 1\n",
    "epochs = 50\n",
    "train(train_loader, model, optimizer, epochs=epochs, lambda_kl=lambda_kl)"
   ]
  },
  {
   "cell_type": "code",
   "execution_count": 43,
   "id": "1aefa173-da62-40a6-bcdf-5df4efc6fcce",
   "metadata": {
    "tags": []
   },
   "outputs": [
    {
     "data": {
      "image/png": "[encoded data removed]",
      "text/plain": [
       "<Figure size 200x200 with 1 Axes>"
      ]
     },
     "metadata": {},
     "output_type": "display_data"
    }
   ],
   "source": [
    "model.eval()\n",
    "\n",
    "with torch.no_grad():\n",
    "    # Sample a random latent vector (from a standard normal distribution)\n",
    "    random_latent = torch.randn(1, latent_dim).to(device)\n",
    "    generated_image = model.decode(random_latent)\n",
    "    generated_image = generated_image.cpu().squeeze(0).detach().numpy()\n",
    "    generated_image = generated_image.transpose(1, 2, 0)\n",
    "    \n",
    "plt.figure(figsize=(2, 2))\n",
    "plt.imshow(generated_image, cmap='grey')\n",
    "plt.title(\"Generated Image\")\n",
    "plt.axis('off')\n",
    "plt.savefig(f\"out/leminst{latent_dim}-9543235.png\")\n",
    "plt.show()"
   ]
  },
  {
   "cell_type": "code",
   "execution_count": 44,
   "id": "be87cb34-c1f0-4f16-bb48-3b6fe2906e39",
   "metadata": {
    "tags": []
   },
   "outputs": [
    {
     "data": {
      "image/png": "[encoded data removed]",
      "text/plain": [
       "<Figure size 400x200 with 2 Axes>"
      ]
     },
     "metadata": {},
     "output_type": "display_data"
    }
   ],
   "source": [
    "import torch\n",
    "import matplotlib.pyplot as plt\n",
    "\n",
    "# Get the image and label\n",
    "i = 9\n",
    "image_tensor = train_dataset[i][0]\n",
    "\n",
    "# Convert numpy array to PyTorch tensor (if it's not already)\n",
    "image_tensor = torch.tensor(image_tensor).float()\n",
    "\n",
    "# Add batch dimension and move to the device (e.g., CUDA)\n",
    "img = image_tensor.unsqueeze(0).to(device)\n",
    "\n",
    "# Forward pass through the model\n",
    "with torch.no_grad():\n",
    "    mu, logvar = model.encode(img)\n",
    "    latent_rep = model.reparameterize(mu, logvar)\n",
    "    reconstructed_image = model.decode(latent_rep)\n",
    "    \n",
    "    # Since the output is from a sigmoid, it should already be in [0, 1] range\n",
    "    reconstructed_image = reconstructed_image.cpu().squeeze(0).detach().numpy()\n",
    "    reconstructed_image = reconstructed_image.transpose(1, 2, 0)\n",
    "\n",
    "# Convert the original image from [0, 1] range and from CxHxW to HxWxC for visualization\n",
    "image = image_tensor.permute(1, 2, 0).cpu().numpy()  # Convert from (C, H, W) to (H, W, C)\n",
    "\n",
    "# Plot the original and reconstructed images\n",
    "plt.figure(figsize=(4, 2))\n",
    "plt.subplot(1, 2, 1)\n",
    "plt.imshow(image,cmap='grey')\n",
    "plt.title('Original Image')\n",
    "plt.axis('off')\n",
    "plt.subplot(1, 2, 2)\n",
    "plt.imshow(reconstructed_image,cmap='grey')\n",
    "plt.title('Reconstructed Image')\n",
    "plt.axis('off')\n",
    "plt.savefig(f\"out/lrec{latent_dim}-9543235.png\")\n",
    "plt.show()\n"
   ]
  },
  {
   "cell_type": "code",
   "execution_count": 45,
   "id": "f066e28e-9c86-45e2-a7b6-956d5c38539c",
   "metadata": {
    "tags": []
   },
   "outputs": [
    {
     "data": {
      "image/png": "[encoded data removed]",
      "text/plain": [
       "<Figure size 900x600 with 6 Axes>"
      ]
     },
     "metadata": {},
     "output_type": "display_data"
    }
   ],
   "source": [
    "import matplotlib.pyplot as plt\n",
    "\n",
    "i, j = 3, 4\n",
    "\n",
    "image_tensor_i = train_dataset[i][0]\n",
    "image_tensor_j = train_dataset[j][0]\n",
    "\n",
    "# Convert to tensors and move to device\n",
    "img_i = torch.tensor(image_tensor_i).unsqueeze(0).to(device).float()\n",
    "img_j = torch.tensor(image_tensor_j).unsqueeze(0).to(device).float()\n",
    "\n",
    "# Forward pass through the encoder to get latents\n",
    "with torch.no_grad():\n",
    "    mu_i, logvar_i = model.encode(img_i)\n",
    "    mu_j, logvar_j = model.encode(img_j)\n",
    "\n",
    "    latent_rep_i = model.reparameterize(mu_i, logvar_i)\n",
    "    latent_rep_j = model.reparameterize(mu_j, logvar_j)\n",
    "\n",
    "    reconstructed_image_i = model.decode(latent_rep_i).cpu().squeeze(0).detach().numpy()\n",
    "    reconstructed_image_j = model.decode(latent_rep_j).cpu().squeeze(0).detach().numpy()\n",
    "\n",
    "    # Average the latent representations\n",
    "    averaged_latent = (latent_rep_i + latent_rep_j) / 2\n",
    "    reconstructed_image_avg = model.decode(averaged_latent).cpu().squeeze(0).detach().numpy()\n",
    "\n",
    "    # Convert images to proper format (C, H, W to H, W, C)\n",
    "    image_i = image_tensor_i.transpose(1, 2, 0)\n",
    "    image_j = image_tensor_j.transpose(1, 2, 0)\n",
    "\n",
    "    reconstructed_image_i = reconstructed_image_i.transpose(1, 2, 0)\n",
    "    reconstructed_image_j = reconstructed_image_j.transpose(1, 2, 0)\n",
    "    reconstructed_image_avg = reconstructed_image_avg.transpose(1, 2, 0)\n",
    "\n",
    "plt.figure(figsize=(9, 6))\n",
    "\n",
    "# Original images\n",
    "plt.subplot(2, 3, 1)\n",
    "plt.imshow(image_i, cmap='gray')  # Set cmap to 'gray'\n",
    "plt.title(f'Original Image {i}')\n",
    "plt.axis('off')\n",
    "\n",
    "plt.subplot(2, 3, 2)\n",
    "plt.imshow(image_j, cmap='gray')  # Set cmap to 'gray'\n",
    "plt.title(f'Original Image {j}')\n",
    "plt.axis('off')\n",
    "\n",
    "# Averaged original images\n",
    "plt.subplot(2, 3, 3)\n",
    "plt.imshow((image_i + image_j) / 2, cmap='gray')  # Set cmap to 'gray'\n",
    "plt.title(f'Averaged Original')\n",
    "plt.axis('off')\n",
    "\n",
    "# Reconstructed images\n",
    "plt.subplot(2, 3, 4)\n",
    "plt.imshow(reconstructed_image_i, cmap='gray')  # Set cmap to 'gray'\n",
    "plt.title(f'Reconstructed Image {i}')\n",
    "plt.axis('off')\n",
    "\n",
    "plt.subplot(2, 3, 5)\n",
    "plt.imshow(reconstructed_image_j, cmap='gray')  # Set cmap to 'gray'\n",
    "plt.title(f'Reconstructed Image {j}')\n",
    "plt.axis('off')\n",
    "\n",
    "# Reconstructed from averaged latent space\n",
    "plt.subplot(2, 3, 6)\n",
    "plt.imshow(reconstructed_image_avg, cmap='gray')  # Set cmap to 'gray'\n",
    "plt.title(f'Averaged Latent Reconstruction')\n",
    "plt.axis('off')\n",
    "\n",
    "# Show the plot\n",
    "plt.tight_layout()\n",
    "plt.show()\n",
    "\n"
   ]
  },
  {
   "cell_type": "code",
   "execution_count": 46,
   "id": "8799bf55-5dbf-47f4-8de3-721528cef3cb",
   "metadata": {},
   "outputs": [
    {
     "data": {
      "image/png": "[encoded data removed]",
      "text/plain": [
       "<Figure size 1500x300 with 10 Axes>"
      ]
     },
     "metadata": {},
     "output_type": "display_data"
    }
   ],
   "source": [
    "with torch.no_grad():\n",
    "    mu_i, logvar_i = model.encode(img_i)\n",
    "    mu_j, logvar_j = model.encode(img_j)\n",
    "\n",
    "    latent_rep_i = model.reparameterize(mu_i, logvar_i)\n",
    "    latent_rep_j = model.reparameterize(mu_j, logvar_j)\n",
    "\n",
    "    # Generate 10 weighted averages of latent representations\n",
    "    weights = np.linspace(0, 1, 10)\n",
    "    interpolated_latents = [\n",
    "        (1 - w) * latent_rep_i + w * latent_rep_j for w in weights\n",
    "    ]\n",
    "    reconstructed_images = [\n",
    "        model.decode(latent).cpu().squeeze(0).detach().numpy() for latent in interpolated_latents\n",
    "    ]\n",
    "\n",
    "    # Convert reconstructed images to proper format (C, H, W to H, W, C)\n",
    "    reconstructed_images = [\n",
    "        img.transpose(1, 2, 0) for img in reconstructed_images\n",
    "    ]\n",
    "\n",
    "# Visualization\n",
    "plt.figure(figsize=(15, 3))  # Linear layout\n",
    "\n",
    "# Plot interpolated images\n",
    "for idx, img in enumerate(reconstructed_images):\n",
    "    plt.subplot(1, len(reconstructed_images), idx + 1)\n",
    "    plt.imshow(img, cmap='gray')\n",
    "    plt.axis('off')\n",
    "\n",
    "# Save and display the plot\n",
    "plt.tight_layout()\n",
    "plt.savefig('interpolated_images4.png')\n",
    "plt.show()\n"
   ]
  }
 ],
 "metadata": {
  "kernelspec": {
   "display_name": "SRC_AI",
   "language": "python",
   "name": "src"
  },
  "language_info": {
   "codemirror_mode": {
    "name": "ipython",
    "version": 3
   },
   "file_extension": ".py",
   "mimetype": "text/x-python",
   "name": "python",
   "nbconvert_exporter": "python",
   "pygments_lexer": "ipython3",
   "version": "3.12.7"
  }
 },
 "nbformat": 4,
 "nbformat_minor": 5
}
